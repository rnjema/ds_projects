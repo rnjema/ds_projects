{
  "nbformat": 4,
  "nbformat_minor": 0,
  "metadata": {
    "colab": {
      "name": "rnjema-zindi-base-notebook.ipynb",
      "provenance": [],
      "collapsed_sections": []
    },
    "kernelspec": {
      "name": "python3",
      "display_name": "Python 3"
    },
    "language_info": {
      "name": "python"
    }
  },
  "cells": [
    {
      "cell_type": "markdown",
      "source": [
        "# [Title]\n",
        "\n",
        "## Problem Description\n",
        "\n",
        "## Data Description\n",
        "\n",
        "## Entry Contributors\n",
        "> [Contributor]\n",
        "\n"
      ],
      "metadata": {
        "id": "2GxhRPSwGIjI"
      }
    },
    {
      "cell_type": "code",
      "execution_count": null,
      "metadata": {
        "id": "ozi7C9mjE0JT"
      },
      "outputs": [],
      "source": [
        ""
      ]
    },
    {
      "cell_type": "markdown",
      "source": [
        "## 1. Setup 🛏 🧹"
      ],
      "metadata": {
        "id": "QfgpNKFNGf6l"
      }
    },
    {
      "cell_type": "markdown",
      "source": [
        "### Environment Preparatrion"
      ],
      "metadata": {
        "id": "cn34yt8XHneU"
      }
    },
    {
      "cell_type": "markdown",
      "source": [
        "Install,Import packages,etc"
      ],
      "metadata": {
        "id": "xHHwO7a9IWAc"
      }
    },
    {
      "cell_type": "code",
      "source": [
        ""
      ],
      "metadata": {
        "id": "m86yHo1dH1dx"
      },
      "execution_count": null,
      "outputs": []
    },
    {
      "cell_type": "markdown",
      "source": [
        "### Downloading Data ~ Zindi"
      ],
      "metadata": {
        "id": "WyRRCer2H2La"
      }
    },
    {
      "cell_type": "markdown",
      "metadata": {
        "id": "-zUe2hgDepHs"
      },
      "source": [
        "Utility function for downloading data"
      ]
    },
    {
      "cell_type": "code",
      "execution_count": null,
      "metadata": {
        "id": "zIVEthrJ7DvJ"
      },
      "outputs": [],
      "source": [
        "# Function to download data\n",
        "def zindi_data_downloader(url, token, file_name):\n",
        "    # Get the competition data\n",
        "    competition_data = requests.post(url = url, data= token, stream=True)\n",
        "    \n",
        "    # Progress bar monitor download\n",
        "    pbar = tqdm(desc=file_name, total=int(competition_data.headers.get('content-length', 0)), unit='B', unit_scale=True, unit_divisor=512)\n",
        "    # Create and Write the data to colab drive in chunks\n",
        "    handle = open(file_name, \"wb\")\n",
        "    for chunk in competition_data.iter_content(chunk_size=512): # Download the data in chunks\n",
        "        if chunk: # filter out keep-alive new chunks\n",
        "                handle.write(chunk)\n",
        "        pbar.update(len(chunk))\n",
        "    handle.close()\n",
        "    pbar.close()"
      ]
    },
    {
      "cell_type": "code",
      "execution_count": null,
      "metadata": {
        "id": "_azZ9628fNLJ"
      },
      "outputs": [],
      "source": [
        ""
      ]
    },
    {
      "cell_type": "code",
      "execution_count": null,
      "metadata": {
        "id": "b9_-Q7iu7Ipp"
      },
      "outputs": [],
      "source": [
        "URLS = [pass]\n",
        "\n",
        "AUTH_TOKEN = {'auth_token' : pass}"
      ]
    },
    {
      "cell_type": "code",
      "execution_count": null,
      "metadata": {
        "id": "QhsT0Su98FGL"
      },
      "outputs": [],
      "source": [
        "filenames = [name.split('/')[-1] for name in URLS]\n",
        "for name, url in zip(filenames, URLS):\n",
        "  zindi_data_downloader(url=url, token=AUTH_TOKEN, file_name=name)"
      ]
    },
    {
      "cell_type": "markdown",
      "source": [
        "### Reading Data"
      ],
      "metadata": {
        "id": "OU9EQDpwH7H5"
      }
    },
    {
      "cell_type": "code",
      "source": [
        ""
      ],
      "metadata": {
        "id": "sNsxgYqcIkZp"
      },
      "execution_count": null,
      "outputs": []
    },
    {
      "cell_type": "markdown",
      "source": [
        ""
      ],
      "metadata": {
        "id": "MGCvrlG5IlIE"
      }
    },
    {
      "cell_type": "markdown",
      "source": [
        "## 2. Exploratory Data Analysis 📈 📊"
      ],
      "metadata": {
        "id": "jfS01_omInxp"
      }
    },
    {
      "cell_type": "code",
      "source": [
        ""
      ],
      "metadata": {
        "id": "rx26S1-9IryM"
      },
      "execution_count": null,
      "outputs": []
    },
    {
      "cell_type": "markdown",
      "source": [
        "##3. Data Preprocessing 🪥 🔢 ⏳"
      ],
      "metadata": {
        "id": "VGdskkp-ItYi"
      }
    },
    {
      "cell_type": "code",
      "source": [
        ""
      ],
      "metadata": {
        "id": "Iv3mNLHCIyjS"
      },
      "execution_count": null,
      "outputs": []
    },
    {
      "cell_type": "markdown",
      "source": [
        "## 4. Feature Engineering ⚙ 🧰 ⚡"
      ],
      "metadata": {
        "id": "cvcvX0SrIzgI"
      }
    },
    {
      "cell_type": "code",
      "source": [
        ""
      ],
      "metadata": {
        "id": "cmSkvY24I3I2"
      },
      "execution_count": null,
      "outputs": []
    },
    {
      "cell_type": "markdown",
      "source": [
        "## 5. Modelling 💻 🧠"
      ],
      "metadata": {
        "id": "qcPtRKHrI4CE"
      }
    },
    {
      "cell_type": "code",
      "source": [
        ""
      ],
      "metadata": {
        "id": "Umx3LxTRI7a2"
      },
      "execution_count": null,
      "outputs": []
    },
    {
      "cell_type": "markdown",
      "source": [
        "## 6. Model Evaluation 🧪 🔬 🔎"
      ],
      "metadata": {
        "id": "belMUtEeI9ew"
      }
    },
    {
      "cell_type": "code",
      "source": [
        ""
      ],
      "metadata": {
        "id": "u5OtTBv4JLxb"
      },
      "execution_count": null,
      "outputs": []
    }
  ]
}